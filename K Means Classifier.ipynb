{
 "cells": [
  {
   "cell_type": "markdown",
   "metadata": {},
   "source": [
    "This file has code for K Neighbors Classifier and its accuracy will be compared with sklearn using accuracy_score"
   ]
  },
  {
   "cell_type": "code",
   "execution_count": 3,
   "metadata": {},
   "outputs": [
    {
     "data": {
      "text/html": [
       "<div>\n",
       "<style scoped>\n",
       "    .dataframe tbody tr th:only-of-type {\n",
       "        vertical-align: middle;\n",
       "    }\n",
       "\n",
       "    .dataframe tbody tr th {\n",
       "        vertical-align: top;\n",
       "    }\n",
       "\n",
       "    .dataframe thead th {\n",
       "        text-align: right;\n",
       "    }\n",
       "</style>\n",
       "<table border=\"1\" class=\"dataframe\">\n",
       "  <thead>\n",
       "    <tr style=\"text-align: right;\">\n",
       "      <th></th>\n",
       "      <th>Prep</th>\n",
       "      <th>Plas</th>\n",
       "      <th>Pres</th>\n",
       "      <th>Skin</th>\n",
       "      <th>Insu</th>\n",
       "      <th>Mass</th>\n",
       "      <th>Pedi</th>\n",
       "      <th>Age</th>\n",
       "      <th>Class</th>\n",
       "    </tr>\n",
       "  </thead>\n",
       "  <tbody>\n",
       "    <tr>\n",
       "      <th>763</th>\n",
       "      <td>10</td>\n",
       "      <td>101</td>\n",
       "      <td>76</td>\n",
       "      <td>48</td>\n",
       "      <td>180</td>\n",
       "      <td>32.9</td>\n",
       "      <td>0.171</td>\n",
       "      <td>63</td>\n",
       "      <td>0</td>\n",
       "    </tr>\n",
       "    <tr>\n",
       "      <th>764</th>\n",
       "      <td>2</td>\n",
       "      <td>122</td>\n",
       "      <td>70</td>\n",
       "      <td>27</td>\n",
       "      <td>0</td>\n",
       "      <td>36.8</td>\n",
       "      <td>0.340</td>\n",
       "      <td>27</td>\n",
       "      <td>0</td>\n",
       "    </tr>\n",
       "    <tr>\n",
       "      <th>765</th>\n",
       "      <td>5</td>\n",
       "      <td>121</td>\n",
       "      <td>72</td>\n",
       "      <td>23</td>\n",
       "      <td>112</td>\n",
       "      <td>26.2</td>\n",
       "      <td>0.245</td>\n",
       "      <td>30</td>\n",
       "      <td>0</td>\n",
       "    </tr>\n",
       "    <tr>\n",
       "      <th>766</th>\n",
       "      <td>1</td>\n",
       "      <td>126</td>\n",
       "      <td>60</td>\n",
       "      <td>0</td>\n",
       "      <td>0</td>\n",
       "      <td>30.1</td>\n",
       "      <td>0.349</td>\n",
       "      <td>47</td>\n",
       "      <td>1</td>\n",
       "    </tr>\n",
       "    <tr>\n",
       "      <th>767</th>\n",
       "      <td>1</td>\n",
       "      <td>93</td>\n",
       "      <td>70</td>\n",
       "      <td>31</td>\n",
       "      <td>0</td>\n",
       "      <td>30.4</td>\n",
       "      <td>0.315</td>\n",
       "      <td>23</td>\n",
       "      <td>0</td>\n",
       "    </tr>\n",
       "  </tbody>\n",
       "</table>\n",
       "</div>"
      ],
      "text/plain": [
       "     Prep  Plas  Pres  Skin  Insu  Mass   Pedi  Age  Class\n",
       "763    10   101    76    48   180  32.9  0.171   63      0\n",
       "764     2   122    70    27     0  36.8  0.340   27      0\n",
       "765     5   121    72    23   112  26.2  0.245   30      0\n",
       "766     1   126    60     0     0  30.1  0.349   47      1\n",
       "767     1    93    70    31     0  30.4  0.315   23      0"
      ]
     },
     "execution_count": 3,
     "metadata": {},
     "output_type": "execute_result"
    }
   ],
   "source": [
    "import pandas as pd\n",
    "import numpy as np\n",
    "from sklearn.preprocessing import StandardScaler\n",
    "from sklearn.metrics import accuracy_score\n",
    "\n",
    "data = pd.read_csv(\"Diabetes.csv\")\n",
    "data.drop(columns=['Class_'], inplace=True)\n",
    "data.tail()"
   ]
  },
  {
   "cell_type": "code",
   "execution_count": 4,
   "metadata": {},
   "outputs": [],
   "source": [
    "#Data standardization using StandardScaler\n",
    "initial_data = data.iloc[:,:-1]\n",
    "scaler = StandardScaler()\n",
    "data_scaled = scaler.fit_transform(initial_data)\n",
    "df = pd.DataFrame(data=data_scaled, columns=initial_data.columns)\n",
    "df = pd.concat([df, data.iloc[:,-1:]], axis=1)\n",
    "\n",
    "#Split train and test data\n",
    "X = df.iloc[:int(len(df) * 0.8),:-1]\n",
    "Y = df.iloc[:int(len(df) * 0.8),-1:]\n",
    "X_test = df.iloc[int(len(df) * 0.8):, :-1]\n",
    "Y_test = df.iloc[int(len(df) * 0.8):, -1:]"
   ]
  },
  {
   "cell_type": "code",
   "execution_count": 16,
   "metadata": {},
   "outputs": [
    {
     "name": "stdout",
     "output_type": "stream",
     "text": [
      "Predictions using custom code: [1 0 0 0 0 1 0 0 1 0 0 0 0 1 1 0 0 0 0 0 0 0 1 0 0 0 0 0 0 0 0 0 1 1 0 0 0\n",
      " 0 0 0 0 1 0 1 0 0 0 1 1 1 0 0 0 1 0 0 1 0 0 1 0 1 0 0 0 0 0 0 0 0 0 0 0 0\n",
      " 0 0 0 1 0 0 0 1 1 0 0 1 0 0 1 1 0 0 0 0 1 0 0 0 0 0 0 1 1 0 0 0 0 0 0 0 0\n",
      " 0 0 0 0 0 0 1 0 0 0 0 0 0 0 0 1 0 0 0 1 0 0 0 1 0 1 0 0 0 1 1 1 1 0 0 0 1\n",
      " 0 0 0 0 1 0]\n",
      "\n",
      "\n",
      "Accuracy using custom code: 74.02597402597402 %\n"
     ]
    }
   ],
   "source": [
    "#Creating a class for K Neighbors Classifier\n",
    "class KMeansClassifier:\n",
    "    def __init__(self, n_neighbors):\n",
    "        self.k=n_neighbors\n",
    "        \n",
    "    def fit(self,X,Y):\n",
    "        self.X=X\n",
    "        self.Y=Y\n",
    "    \n",
    "    def predict(self,test):\n",
    "        y_pred = []\n",
    "        distance = []\n",
    "        for i in range(test.shape[0]):\n",
    "            for j in range(0,self.X.shape[0]):\n",
    "                #Calculate the euclidian distance between each new datapoint and all the existing data points and appending it to a list\n",
    "                distance.append(np.linalg.norm(np.array(test.iloc[i]) - np.array(self.X.iloc[j])))\n",
    "        distance_array = np.array(distance).reshape(-1,self.X.shape[0])\n",
    "        for i in range(0,distance_array.shape[0]):\n",
    "            #Find K indices that are closer to the new datapoint (K=4 in this case)\n",
    "            indices = np.sort(np.argpartition(distance_array[i], self.k)[:self.k])\n",
    "            final_class = []\n",
    "            for index in indices:\n",
    "                #Find the category of those K indices belong to and pick the category that occured most for the new datapoint\n",
    "                final_class.append(self.Y.loc[index, self.Y.columns][0])\n",
    "            y_pred.append(int(max(set(final_class), key=final_class.count)))\n",
    "        return np.array(y_pred)\n",
    "            \n",
    "model = KMeansClassifier(n_neighbors=4)\n",
    "model.fit(X,Y)\n",
    "y_pred = model.predict(X_test)\n",
    "print(\"Predictions using custom code:\", y_pred)\n",
    "print(\"\\n\")\n",
    "print(\"Accuracy using custom code:\", accuracy_score(Y_test, y_pred) * 100, \"%\")"
   ]
  },
  {
   "cell_type": "code",
   "execution_count": 17,
   "metadata": {},
   "outputs": [
    {
     "name": "stdout",
     "output_type": "stream",
     "text": [
      "Predictions using sklearn: [1 0 0 0 0 1 0 0 1 0 0 0 0 1 1 0 0 0 0 0 0 0 1 0 0 0 0 0 0 0 0 0 1 1 0 0 0\n",
      " 0 0 0 0 1 0 1 0 0 0 1 1 1 0 0 0 1 0 0 1 0 0 1 0 1 0 0 0 0 0 0 0 0 0 0 0 0\n",
      " 0 0 0 1 0 0 0 1 1 0 0 1 0 0 1 1 0 0 0 0 1 0 0 0 0 0 0 1 1 0 0 0 0 0 0 0 0\n",
      " 0 0 0 0 0 0 1 0 0 0 0 0 0 0 0 1 0 0 0 1 0 0 0 1 0 1 0 0 0 1 1 1 1 0 0 0 1\n",
      " 0 0 0 0 1 0]\n",
      "\n",
      "\n",
      "Accuracy from sklearn:  74.02597402597402 %\n"
     ]
    }
   ],
   "source": [
    "from sklearn.neighbors import KNeighborsClassifier\n",
    "model_KNC = KNeighborsClassifier(n_neighbors=4)\n",
    "model_KNC.fit(X,Y.values.ravel())\n",
    "y_pred_KNC = model_KNC.predict(X_test)\n",
    "print(\"Predictions using sklearn:\", y_pred_KNC)\n",
    "print(\"\\n\")\n",
    "print(\"Accuracy from sklearn: \", accuracy_score(Y_test, y_pred_KNC) * 100, \"%\")"
   ]
  },
  {
   "cell_type": "code",
   "execution_count": 18,
   "metadata": {},
   "outputs": [
    {
     "name": "stdout",
     "output_type": "stream",
     "text": [
      "Accuracy of both models:  100.0 %\n"
     ]
    }
   ],
   "source": [
    "print(\"Accuracy of both models: \", accuracy_score(y_pred, y_pred_KNC) * 100, \"%\")"
   ]
  },
  {
   "cell_type": "markdown",
   "metadata": {},
   "source": [
    "This shows that both models have accuracy of 74.02% when compared with the real data. Also, both models have returned the same output for all the test data and hence the accuracy is 100% between both models"
   ]
  }
 ],
 "metadata": {
  "kernelspec": {
   "display_name": "Python 3",
   "language": "python",
   "name": "python3"
  },
  "language_info": {
   "codemirror_mode": {
    "name": "ipython",
    "version": 3
   },
   "file_extension": ".py",
   "mimetype": "text/x-python",
   "name": "python",
   "nbconvert_exporter": "python",
   "pygments_lexer": "ipython3",
   "version": "3.9.0"
  }
 },
 "nbformat": 4,
 "nbformat_minor": 4
}
